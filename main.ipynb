{
 "cells": [
  {
   "cell_type": "markdown",
   "metadata": {},
   "source": [
    "### Import module"
   ]
  },
  {
   "cell_type": "code",
   "execution_count": 48,
   "metadata": {
    "tags": []
   },
   "outputs": [],
   "source": [
    "import tensorflow as tf\n",
    "import keras\n",
    "import os \n",
    "import numpy as np\n",
    "import pandas as pd\n",
    "import matplotlib.pyplot as plt\n",
    "import matplotlib.image as mpimg\n",
    "from tensorflow.keras.preprocessing.image import ImageDataGenerator,load_img, img_to_array\n",
    "\n",
    "from keras.models import Sequential\n",
    "from keras.layers import Conv2D, MaxPooling2D, Flatten, Dense, Dropout\n",
    "from sklearn.utils import shuffle\n",
    "from sklearn.model_selection import train_test_split"
   ]
  },
  {
   "cell_type": "code",
   "execution_count": 36,
   "metadata": {
    "tags": []
   },
   "outputs": [],
   "source": [
    "data = 'brain-mri-images-for-brain-tumor-detection/'\n",
    "No_brain_tumor = 'no/'\n",
    "Yes_brain_tumor = 'yes/'"
   ]
  },
  {
   "cell_type": "markdown",
   "metadata": {},
   "source": [
    "### Creating a dataframe showing tumour class with corresponding filepath"
   ]
  },
  {
   "cell_type": "code",
   "execution_count": 37,
   "metadata": {
    "execution": {
     "iopub.execute_input": "2023-04-18T01:39:18.341152Z",
     "iopub.status.busy": "2023-04-18T01:39:18.340695Z",
     "iopub.status.idle": "2023-04-18T01:39:18.429723Z",
     "shell.execute_reply": "2023-04-18T01:39:18.428591Z",
     "shell.execute_reply.started": "2023-04-18T01:39:18.341106Z"
    }
   },
   "outputs": [],
   "source": [
    "dir_list = [No_brain_tumor, Yes_brain_tumor]\n",
    "labels = ['No', 'Yes']\n"
   ]
  },
  {
   "cell_type": "code",
   "execution_count": 38,
   "metadata": {
    "execution": {
     "iopub.execute_input": "2023-04-18T01:39:18.432351Z",
     "iopub.status.busy": "2023-04-18T01:39:18.431717Z",
     "iopub.status.idle": "2023-04-18T01:39:18.468421Z",
     "shell.execute_reply": "2023-04-18T01:39:18.467457Z",
     "shell.execute_reply.started": "2023-04-18T01:39:18.432302Z"
    }
   },
   "outputs": [],
   "source": [
    "filepaths = []\n",
    "labels_list = []\n"
   ]
  },
  {
   "cell_type": "code",
   "execution_count": 39,
   "metadata": {
    "execution": {
     "iopub.execute_input": "2023-04-18T01:39:18.469960Z",
     "iopub.status.busy": "2023-04-18T01:39:18.469668Z",
     "iopub.status.idle": "2023-04-18T01:39:18.480993Z",
     "shell.execute_reply": "2023-04-18T01:39:18.479831Z",
     "shell.execute_reply.started": "2023-04-18T01:39:18.469929Z"
    },
    "scrolled": true
   },
   "outputs": [],
   "source": [
    "for i, label in zip(dir_list, labels):\n",
    "    directory = os.path.join(data, i)\n",
    "    for entry in os.scandir(directory):\n",
    "        if entry.is_file():\n",
    "            filepaths.append(entry.path)\n",
    "            labels_list.append(label)\n"
   ]
  },
  {
   "cell_type": "code",
   "execution_count": 40,
   "metadata": {},
   "outputs": [],
   "source": [
    "# Create a DataFrame\n",
    "df = pd.DataFrame({'filepaths': filepaths, 'labels': labels_list})\n"
   ]
  },
  {
   "cell_type": "code",
   "execution_count": 41,
   "metadata": {
    "execution": {
     "iopub.execute_input": "2023-04-18T01:39:18.483002Z",
     "iopub.status.busy": "2023-04-18T01:39:18.482392Z",
     "iopub.status.idle": "2023-04-18T01:39:18.501441Z",
     "shell.execute_reply": "2023-04-18T01:39:18.500298Z",
     "shell.execute_reply.started": "2023-04-18T01:39:18.482949Z"
    }
   },
   "outputs": [],
   "source": [
    "# Convert labels to binary (0 for No, 1 for Yes)\n",
    "df['labels'] = df['labels'].apply(lambda x: 0 if x == 'No' else 1)\n"
   ]
  },
  {
   "cell_type": "code",
   "execution_count": 42,
   "metadata": {},
   "outputs": [],
   "source": [
    "# Shuffle the DataFrame\n",
    "df = shuffle(df, random_state=42)\n"
   ]
  },
  {
   "cell_type": "code",
   "execution_count": 45,
   "metadata": {
    "execution": {
     "iopub.execute_input": "2023-04-18T01:39:18.503404Z",
     "iopub.status.busy": "2023-04-18T01:39:18.503095Z",
     "iopub.status.idle": "2023-04-18T01:39:20.489405Z",
     "shell.execute_reply": "2023-04-18T01:39:20.488307Z",
     "shell.execute_reply.started": "2023-04-18T01:39:18.503373Z"
    }
   },
   "outputs": [],
   "source": [
    "def load_resize_image(path):\n",
    "    image = load_img(path, target_size=(300, 300))\n",
    "    return image\n"
   ]
  },
  {
   "cell_type": "code",
   "execution_count": 34,
   "metadata": {
    "execution": {
     "iopub.execute_input": "2023-04-18T01:39:20.492568Z",
     "iopub.status.busy": "2023-04-18T01:39:20.492196Z",
     "iopub.status.idle": "2023-04-18T01:39:21.985851Z",
     "shell.execute_reply": "2023-04-18T01:39:21.984561Z",
     "shell.execute_reply.started": "2023-04-18T01:39:20.492527Z"
    }
   },
   "outputs": [],
   "source": [
    "image_list = []\n",
    "label_list = []\n"
   ]
  },
  {
   "cell_type": "code",
   "execution_count": 50,
   "metadata": {
    "execution": {
     "iopub.execute_input": "2023-04-18T01:39:21.987990Z",
     "iopub.status.busy": "2023-04-18T01:39:21.987677Z",
     "iopub.status.idle": "2023-04-18T01:39:21.992926Z",
     "shell.execute_reply": "2023-04-18T01:39:21.991873Z",
     "shell.execute_reply.started": "2023-04-18T01:39:21.987958Z"
    }
   },
   "outputs": [],
   "source": [
    "\n",
    "for idx, row in df.iterrows():\n",
    "    path = row['filepaths']\n",
    "    label = row['labels']\n",
    "    image = load_resize_image(path)\n",
    "    image_array = img_to_array(image)\n",
    "    image_list.append(image_array)\n",
    "    label_list.append(label)\n"
   ]
  },
  {
   "cell_type": "code",
   "execution_count": 51,
   "metadata": {
    "execution": {
     "iopub.execute_input": "2023-04-18T01:39:21.995048Z",
     "iopub.status.busy": "2023-04-18T01:39:21.994507Z",
     "iopub.status.idle": "2023-04-18T01:39:22.102535Z",
     "shell.execute_reply": "2023-04-18T01:39:22.101372Z",
     "shell.execute_reply.started": "2023-04-18T01:39:21.995001Z"
    }
   },
   "outputs": [],
   "source": [
    "X_data = np.array(image_list)\n",
    "y_data = np.array(label_list)\n"
   ]
  },
  {
   "cell_type": "code",
   "execution_count": 52,
   "metadata": {
    "execution": {
     "iopub.execute_input": "2023-04-18T01:39:22.104637Z",
     "iopub.status.busy": "2023-04-18T01:39:22.104014Z",
     "iopub.status.idle": "2023-04-18T01:39:22.141889Z",
     "shell.execute_reply": "2023-04-18T01:39:22.140759Z",
     "shell.execute_reply.started": "2023-04-18T01:39:22.104593Z"
    }
   },
   "outputs": [],
   "source": [
    "# Split the data into training and testing sets\n",
    "X_train, X_test, y_train, y_test = train_test_split(X_data, y_data, train_size=0.8, random_state=42)\n"
   ]
  },
  {
   "cell_type": "code",
   "execution_count": 53,
   "metadata": {
    "execution": {
     "iopub.execute_input": "2023-04-18T01:39:22.143742Z",
     "iopub.status.busy": "2023-04-18T01:39:22.143393Z",
     "iopub.status.idle": "2023-04-18T01:39:23.482732Z",
     "shell.execute_reply": "2023-04-18T01:39:23.481687Z",
     "shell.execute_reply.started": "2023-04-18T01:39:22.143707Z"
    }
   },
   "outputs": [],
   "source": [
    "# Normalize the pixel values\n",
    "X_train = X_train / 255.0\n",
    "X_test = X_test / 255.0\n"
   ]
  },
  {
   "cell_type": "code",
   "execution_count": 56,
   "metadata": {
    "execution": {
     "iopub.execute_input": "2023-04-18T01:39:23.484569Z",
     "iopub.status.busy": "2023-04-18T01:39:23.484114Z",
     "iopub.status.idle": "2023-04-18T01:39:23.669654Z",
     "shell.execute_reply": "2023-04-18T01:39:23.668625Z",
     "shell.execute_reply.started": "2023-04-18T01:39:23.484522Z"
    }
   },
   "outputs": [],
   "source": [
    "# Build the CNN model\n",
    "model = Sequential()\n",
    "model.add(Conv2D(64, kernel_size=(3, 3), activation='relu', input_shape=(300, 300, 3)))\n",
    "model.add(MaxPooling2D(pool_size=(2, 2)))\n",
    "model.add(Conv2D(64, kernel_size=(3, 3), activation='relu'))\n",
    "model.add(MaxPooling2D(pool_size=(2, 2)))\n",
    "model.add(Flatten())"
   ]
  },
  {
   "cell_type": "code",
   "execution_count": 57,
   "metadata": {
    "execution": {
     "iopub.execute_input": "2023-04-18T01:39:23.671283Z",
     "iopub.status.busy": "2023-04-18T01:39:23.670793Z",
     "iopub.status.idle": "2023-04-18T01:39:23.676734Z",
     "shell.execute_reply": "2023-04-18T01:39:23.675668Z",
     "shell.execute_reply.started": "2023-04-18T01:39:23.671245Z"
    }
   },
   "outputs": [],
   "source": [
    "# Compile the model\n",
    "model.compile(loss=\"binary_crossentropy\", optimizer='adam', metrics=['accuracy'])\n"
   ]
  },
  {
   "cell_type": "code",
   "execution_count": 58,
   "metadata": {},
   "outputs": [
    {
     "name": "stdout",
     "output_type": "stream",
     "text": [
      "Epoch 1/10\n",
      "7/7 [==============================] - 24s 3s/step - loss: 3.3637 - accuracy: 0.0000e+00 - val_loss: 1.4055 - val_accuracy: 0.0000e+00\n",
      "Epoch 2/10\n",
      "7/7 [==============================] - 38s 5s/step - loss: 1.2975 - accuracy: 0.0000e+00 - val_loss: 1.0353 - val_accuracy: 0.0000e+00\n",
      "Epoch 3/10\n",
      "7/7 [==============================] - 33s 5s/step - loss: 1.1414 - accuracy: 0.0000e+00 - val_loss: 0.9869 - val_accuracy: 0.0196\n",
      "Epoch 4/10\n",
      "7/7 [==============================] - 31s 4s/step - loss: 1.0179 - accuracy: 0.0000e+00 - val_loss: 0.8816 - val_accuracy: 0.0000e+00\n",
      "Epoch 5/10\n",
      "7/7 [==============================] - 30s 4s/step - loss: 0.9445 - accuracy: 0.0000e+00 - val_loss: 0.8508 - val_accuracy: 0.0000e+00\n",
      "Epoch 6/10\n",
      "7/7 [==============================] - 30s 4s/step - loss: 0.8859 - accuracy: 0.0000e+00 - val_loss: 0.8015 - val_accuracy: 0.0000e+00\n",
      "Epoch 7/10\n",
      "7/7 [==============================] - 29s 4s/step - loss: 0.8677 - accuracy: 0.0000e+00 - val_loss: 0.7651 - val_accuracy: 0.0000e+00\n",
      "Epoch 8/10\n",
      "7/7 [==============================] - 30s 4s/step - loss: 0.7960 - accuracy: 0.0000e+00 - val_loss: 0.7379 - val_accuracy: 0.0000e+00\n",
      "Epoch 9/10\n",
      "7/7 [==============================] - 39s 6s/step - loss: 0.7655 - accuracy: 0.0000e+00 - val_loss: 0.7178 - val_accuracy: 0.0000e+00\n",
      "Epoch 10/10\n",
      "7/7 [==============================] - 38s 5s/step - loss: 0.7391 - accuracy: 0.0000e+00 - val_loss: 0.7087 - val_accuracy: 0.0000e+00\n"
     ]
    }
   ],
   "source": [
    "# Train the model\n",
    "history = model.fit(X_train, y_train, batch_size=32, epochs=10, validation_data=(X_test, y_test))\n"
   ]
  },
  {
   "cell_type": "code",
   "execution_count": 59,
   "metadata": {},
   "outputs": [
    {
     "name": "stdout",
     "output_type": "stream",
     "text": [
      "Test loss: 0.7086987495422363\n",
      "Test accuracy: 0.0\n"
     ]
    }
   ],
   "source": [
    "# Evaluate the model\n",
    "score = model.evaluate(X_test, y_test, verbose=0)\n",
    "print('Test loss:', score[0])\n",
    "print('Test accuracy:', score[1])\n"
   ]
  },
  {
   "cell_type": "code",
   "execution_count": 60,
   "metadata": {},
   "outputs": [],
   "source": [
    "# Save the model\n",
    "model.save('brain_tumor_model.h5')\n"
   ]
  },
  {
   "cell_type": "code",
   "execution_count": 61,
   "metadata": {},
   "outputs": [
    {
     "data": {
      "image/png": "[encoded data removed]",
      "text/plain": [
       "<Figure size 640x480 with 1 Axes>"
      ]
     },
     "metadata": {},
     "output_type": "display_data"
    }
   ],
   "source": [
    "# Plot training and validation accuracy\n",
    "plt.plot(history.history['accuracy'])\n",
    "plt.plot(history.history['val_accuracy'])\n",
    "plt.title('Model Accuracy')\n",
    "plt.ylabel('Accuracy')\n",
    "plt.xlabel('Epoch')\n",
    "plt.legend(['Train', 'Test'], loc='upper left')\n",
    "plt.show()"
   ]
  }
 ],
 "metadata": {
  "kernelspec": {
   "display_name": "Python 3 (ipykernel)",
   "language": "python",
   "name": "python3"
  },
  "language_info": {
   "codemirror_mode": {
    "name": "ipython",
    "version": 3
   },
   "file_extension": ".py",
   "mimetype": "text/x-python",
   "name": "python",
   "nbconvert_exporter": "python",
   "pygments_lexer": "ipython3",
   "version": "3.11.1"
  }
 },
 "nbformat": 4,
 "nbformat_minor": 4
}
